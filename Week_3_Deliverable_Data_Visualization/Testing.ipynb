{
 "cells": [
  {
   "cell_type": "markdown",
   "metadata": {},
   "source": [
    "# Week3-InteractiveVisualization\n",
    "This notebook loads a multi-site dataset of subcortical nucleus (thalamus, globus pallidus, and striatum) volumes, performs site harmonization on these volumes using ComBat, then displays a number of interactive figures to explore the harmonized data.\n"
   ]
  },
  {
   "cell_type": "code",
   "execution_count": 2,
   "metadata": {},
   "outputs": [],
   "source": [
    "import pandas as pd\n",
    "import matplotlib.pyplot as plt\n",
    "import seaborn as sns\n",
    "import neuroCombat as nc"
   ]
  },
  {
   "cell_type": "markdown",
   "metadata": {},
   "source": [
    "## Load and Prepare Data"
   ]
  },
  {
   "cell_type": "code",
   "execution_count": 3,
   "metadata": {},
   "outputs": [],
   "source": [
    "data = pd.read_csv(\"data_trimmed.csv\", index_col=0)"
   ]
  },
  {
   "cell_type": "code",
   "execution_count": 4,
   "metadata": {},
   "outputs": [],
   "source": [
    "# Map site IDs to integers, as required by neuroCombat()\n",
    "sites = data['Site'].unique()\n",
    "site_dict = dict(zip(sites, range(1, len(sites)+1)))\n",
    "data['Site_no'] = data['Site'].map(site_dict)\n",
    "#data['Site'].map(site_dict)"
   ]
  },
  {
   "cell_type": "markdown",
   "metadata": {},
   "source": [
    "## ComBat Site Harmonization"
   ]
  },
  {
   "cell_type": "code",
   "execution_count": 5,
   "metadata": {},
   "outputs": [
    {
     "name": "stdout",
     "output_type": "stream",
     "text": [
      "[neuroCombat] Creating design matrix\n",
      "[neuroCombat] Standardizing data across features\n",
      "[neuroCombat] Fitting L/S model and finding priors\n",
      "[neuroCombat] Finding parametric adjustments\n",
      "[neuroCombat] Final adjustment of data\n"
     ]
    }
   ],
   "source": [
    "# The list of feature names\n",
    "features = ['L_str_vol', 'L_GP_vol', 'L_thal_vol', 'R_str_vol', 'R_GP_vol', 'R_thal_vol']\n",
    "\n",
    "# Perform harmonization with ComBat\n",
    "harmonized_features = nc.neuroCombat(data[features].transpose(), covars=data[['Site_no', 'Age', 'DX']], batch_col='Site_no', categorical_cols=[], continuous_cols=[]).transpose()\n",
    "harmonized_features = pd.DataFrame(harmonized_features)\n",
    "harmonized_features.columns = features\n",
    "\n",
    "# Add back site data and measures that were not harmonized.\n",
    "harmonized_features['Site'] = data['Site']\n",
    "harmonized_features['Age'] = data['Age']\n",
    "harmonized_features['TBV'] = data['TBV']\n",
    "harmonized_features['DX'] = data['DX']       # I sure hope that ComBat doesn't change the order of the rows!!!\n"
   ]
  },
  {
   "cell_type": "markdown",
   "metadata": {},
   "source": [
    "## Compute linear regression models on the harmonized data.\n",
    "Regress nucleus volume against diagnosis and age."
   ]
  },
  {
   "cell_type": "code",
   "execution_count": 6,
   "metadata": {},
   "outputs": [
    {
     "name": "stdout",
     "output_type": "stream",
     "text": [
      "                            OLS Regression Results                            \n",
      "==============================================================================\n",
      "Dep. Variable:              L_str_vol   R-squared:                       0.001\n",
      "Model:                            OLS   Adj. R-squared:                 -0.005\n",
      "Method:                 Least Squares   F-statistic:                    0.1438\n",
      "Date:                Thu, 11 Jun 2020   Prob (F-statistic):              0.866\n",
      "Time:                        12:43:49   Log-Likelihood:                -3024.7\n",
      "No. Observations:                 359   AIC:                             6055.\n",
      "Df Residuals:                     356   BIC:                             6067.\n",
      "Df Model:                           2                                         \n",
      "Covariance Type:            nonrobust                                         \n",
      "=================================================================================\n",
      "                    coef    std err          t      P>|t|      [0.025      0.975]\n",
      "---------------------------------------------------------------------------------\n",
      "Intercept       1.05e+04    161.392     65.053      0.000    1.02e+04    1.08e+04\n",
      "DX[T.Control]    58.5843    118.453      0.495      0.621    -174.371     291.539\n",
      "Age              -2.3702     10.207     -0.232      0.816     -22.443      17.702\n",
      "==============================================================================\n",
      "Omnibus:                       22.306   Durbin-Watson:                   1.872\n",
      "Prob(Omnibus):                  0.000   Jarque-Bera (JB):               33.751\n",
      "Skew:                           0.442   Prob(JB):                     4.69e-08\n",
      "Kurtosis:                       4.214   Cond. No.                         43.1\n",
      "==============================================================================\n",
      "\n",
      "Warnings:\n",
      "[1] Standard Errors assume that the covariance matrix of the errors is correctly specified.\n",
      "Intercept        10499.055074\n",
      "DX[T.Control]       58.584324\n",
      "Age                 -2.370245\n",
      "dtype: float64\n",
      "                            OLS Regression Results                            \n",
      "==============================================================================\n",
      "Dep. Variable:               L_GP_vol   R-squared:                       0.028\n",
      "Model:                            OLS   Adj. R-squared:                  0.023\n",
      "Method:                 Least Squares   F-statistic:                     5.188\n",
      "Date:                Thu, 11 Jun 2020   Prob (F-statistic):            0.00601\n",
      "Time:                        12:43:49   Log-Likelihood:                -2359.1\n",
      "No. Observations:                 359   AIC:                             4724.\n",
      "Df Residuals:                     356   BIC:                             4736.\n",
      "Df Model:                           2                                         \n",
      "Covariance Type:            nonrobust                                         \n",
      "=================================================================================\n",
      "                    coef    std err          t      P>|t|      [0.025      0.975]\n",
      "---------------------------------------------------------------------------------\n",
      "Intercept      1576.9725     25.271     62.403      0.000    1527.273    1626.672\n",
      "DX[T.Control]    -9.7269     18.547     -0.524      0.600     -46.203      26.749\n",
      "Age               5.1152      1.598      3.201      0.001       1.972       8.258\n",
      "==============================================================================\n",
      "Omnibus:                       46.303   Durbin-Watson:                   1.884\n",
      "Prob(Omnibus):                  0.000   Jarque-Bera (JB):              162.694\n",
      "Skew:                           0.511   Prob(JB):                     4.69e-36\n",
      "Kurtosis:                       6.136   Cond. No.                         43.1\n",
      "==============================================================================\n",
      "\n",
      "Warnings:\n",
      "[1] Standard Errors assume that the covariance matrix of the errors is correctly specified.\n",
      "Intercept        1576.972512\n",
      "DX[T.Control]      -9.726937\n",
      "Age                 5.115196\n",
      "dtype: float64\n",
      "                            OLS Regression Results                            \n",
      "==============================================================================\n",
      "Dep. Variable:             L_thal_vol   R-squared:                       0.014\n",
      "Model:                            OLS   Adj. R-squared:                  0.009\n",
      "Method:                 Least Squares   F-statistic:                     2.595\n",
      "Date:                Thu, 11 Jun 2020   Prob (F-statistic):             0.0760\n",
      "Time:                        12:43:49   Log-Likelihood:                -2809.0\n",
      "No. Observations:                 359   AIC:                             5624.\n",
      "Df Residuals:                     356   BIC:                             5636.\n",
      "Df Model:                           2                                         \n",
      "Covariance Type:            nonrobust                                         \n",
      "=================================================================================\n",
      "                    coef    std err          t      P>|t|      [0.025      0.975]\n",
      "---------------------------------------------------------------------------------\n",
      "Intercept      6298.9733     88.503     71.172      0.000    6124.918    6473.028\n",
      "DX[T.Control]   -71.0488     64.956     -1.094      0.275    -198.795      56.697\n",
      "Age              11.4829      5.597      2.052      0.041       0.476      22.490\n",
      "==============================================================================\n",
      "Omnibus:                       65.607   Durbin-Watson:                   1.863\n",
      "Prob(Omnibus):                  0.000   Jarque-Bera (JB):              208.933\n",
      "Skew:                           0.801   Prob(JB):                     4.27e-46\n",
      "Kurtosis:                       6.376   Cond. No.                         43.1\n",
      "==============================================================================\n",
      "\n",
      "Warnings:\n",
      "[1] Standard Errors assume that the covariance matrix of the errors is correctly specified.\n",
      "Intercept        6298.973285\n",
      "DX[T.Control]     -71.048772\n",
      "Age                11.482947\n",
      "dtype: float64\n",
      "                            OLS Regression Results                            \n",
      "==============================================================================\n",
      "Dep. Variable:              R_str_vol   R-squared:                       0.000\n",
      "Model:                            OLS   Adj. R-squared:                 -0.006\n",
      "Method:                 Least Squares   F-statistic:                   0.01225\n",
      "Date:                Thu, 11 Jun 2020   Prob (F-statistic):              0.988\n",
      "Time:                        12:43:49   Log-Likelihood:                -3037.0\n",
      "No. Observations:                 359   AIC:                             6080.\n",
      "Df Residuals:                     356   BIC:                             6092.\n",
      "Df Model:                           2                                         \n",
      "Covariance Type:            nonrobust                                         \n",
      "=================================================================================\n",
      "                    coef    std err          t      P>|t|      [0.025      0.975]\n",
      "---------------------------------------------------------------------------------\n",
      "Intercept      1.068e+04    167.000     63.974      0.000    1.04e+04     1.1e+04\n",
      "DX[T.Control]    14.3031    122.568      0.117      0.907    -226.746     255.352\n",
      "Age              -1.1628     10.561     -0.110      0.912     -21.933      19.607\n",
      "==============================================================================\n",
      "Omnibus:                       37.776   Durbin-Watson:                   1.818\n",
      "Prob(Omnibus):                  0.000   Jarque-Bera (JB):               85.979\n",
      "Skew:                           0.541   Prob(JB):                     2.14e-19\n",
      "Kurtosis:                       5.139   Cond. No.                         43.1\n",
      "==============================================================================\n",
      "\n",
      "Warnings:\n",
      "[1] Standard Errors assume that the covariance matrix of the errors is correctly specified.\n",
      "Intercept        10683.732992\n",
      "DX[T.Control]       14.303136\n",
      "Age                 -1.162800\n",
      "dtype: float64\n",
      "                            OLS Regression Results                            \n",
      "==============================================================================\n",
      "Dep. Variable:               R_GP_vol   R-squared:                       0.020\n",
      "Model:                            OLS   Adj. R-squared:                  0.015\n",
      "Method:                 Least Squares   F-statistic:                     3.696\n",
      "Date:                Thu, 11 Jun 2020   Prob (F-statistic):             0.0258\n",
      "Time:                        12:43:49   Log-Likelihood:                -2315.0\n",
      "No. Observations:                 359   AIC:                             4636.\n",
      "Df Residuals:                     356   BIC:                             4648.\n",
      "Df Model:                           2                                         \n",
      "Covariance Type:            nonrobust                                         \n",
      "=================================================================================\n",
      "                    coef    std err          t      P>|t|      [0.025      0.975]\n",
      "---------------------------------------------------------------------------------\n",
      "Intercept      1438.5559     22.353     64.355      0.000    1394.594    1482.517\n",
      "DX[T.Control]   -17.1994     16.406     -1.048      0.295     -49.465      15.066\n",
      "Age               3.6173      1.414      2.559      0.011       0.837       6.397\n",
      "==============================================================================\n",
      "Omnibus:                       34.289   Durbin-Watson:                   1.927\n",
      "Prob(Omnibus):                  0.000   Jarque-Bera (JB):               93.184\n",
      "Skew:                           0.426   Prob(JB):                     5.83e-21\n",
      "Kurtosis:                       5.346   Cond. No.                         43.1\n",
      "==============================================================================\n",
      "\n",
      "Warnings:\n",
      "[1] Standard Errors assume that the covariance matrix of the errors is correctly specified.\n",
      "Intercept        1438.555857\n",
      "DX[T.Control]     -17.199443\n",
      "Age                 3.617282\n",
      "dtype: float64\n",
      "                            OLS Regression Results                            \n",
      "==============================================================================\n",
      "Dep. Variable:             R_thal_vol   R-squared:                       0.019\n",
      "Model:                            OLS   Adj. R-squared:                  0.014\n",
      "Method:                 Least Squares   F-statistic:                     3.501\n",
      "Date:                Thu, 11 Jun 2020   Prob (F-statistic):             0.0312\n",
      "Time:                        12:43:49   Log-Likelihood:                -2801.0\n",
      "No. Observations:                 359   AIC:                             5608.\n",
      "Df Residuals:                     356   BIC:                             5620.\n",
      "Df Model:                           2                                         \n",
      "Covariance Type:            nonrobust                                         \n",
      "=================================================================================\n",
      "                    coef    std err          t      P>|t|      [0.025      0.975]\n",
      "---------------------------------------------------------------------------------\n",
      "Intercept      6143.4253     86.549     70.982      0.000    5973.213    6313.637\n",
      "DX[T.Control]   -93.1537     63.522     -1.466      0.143    -218.079      31.772\n",
      "Age              12.4482      5.473      2.274      0.024       1.684      23.213\n",
      "==============================================================================\n",
      "Omnibus:                       62.356   Durbin-Watson:                   1.871\n",
      "Prob(Omnibus):                  0.000   Jarque-Bera (JB):              187.014\n",
      "Skew:                           0.780   Prob(JB):                     2.46e-41\n",
      "Kurtosis:                       6.173   Cond. No.                         43.1\n",
      "==============================================================================\n",
      "\n",
      "Warnings:\n",
      "[1] Standard Errors assume that the covariance matrix of the errors is correctly specified.\n",
      "Intercept        6143.425326\n",
      "DX[T.Control]     -93.153691\n",
      "Age                12.448228\n",
      "dtype: float64\n"
     ]
    }
   ],
   "source": [
    "# Linear regression on ComBat harmonized data\n",
    "from statsmodels.formula.api import ols\n",
    "\n",
    "models = pd.Series(dtype='object')\n",
    "model_params = pd.Series(dtype = 'object')\n",
    "for nucleus in harmonized_features.columns[:-4]:        # Don't include last (covariate) columns\n",
    "    models[nucleus] = ols(formula = nucleus + ' ~ DX + Age', data = harmonized_features).fit()\n",
    "    print(models[nucleus].summary())\n",
    "    model_params[nucleus] = models[nucleus].params\n",
    "    print(model_params[nucleus])"
   ]
  },
  {
   "cell_type": "markdown",
   "metadata": {},
   "source": [
    "## Compute Linear Regression on Unharmonized Data"
   ]
  },
  {
   "cell_type": "code",
   "execution_count": 7,
   "metadata": {},
   "outputs": [
    {
     "name": "stdout",
     "output_type": "stream",
     "text": [
      "                            OLS Regression Results                            \n",
      "==============================================================================\n",
      "Dep. Variable:              L_str_vol   R-squared:                       0.003\n",
      "Model:                            OLS   Adj. R-squared:                 -0.003\n",
      "Method:                 Least Squares   F-statistic:                    0.4976\n",
      "Date:                Thu, 11 Jun 2020   Prob (F-statistic):              0.608\n",
      "Time:                        12:43:49   Log-Likelihood:                -3034.0\n",
      "No. Observations:                 359   AIC:                             6074.\n",
      "Df Residuals:                     356   BIC:                             6086.\n",
      "Df Model:                           2                                         \n",
      "Covariance Type:            nonrobust                                         \n",
      "=================================================================================\n",
      "                    coef    std err          t      P>|t|      [0.025      0.975]\n",
      "---------------------------------------------------------------------------------\n",
      "Intercept       1.06e+04    165.622     64.016      0.000    1.03e+04    1.09e+04\n",
      "DX[T.Control]    62.7404    121.557      0.516      0.606    -176.319     301.800\n",
      "Age              -9.2050     10.474     -0.879      0.380     -29.804      11.394\n",
      "==============================================================================\n",
      "Omnibus:                       43.075   Durbin-Watson:                   1.817\n",
      "Prob(Omnibus):                  0.000   Jarque-Bera (JB):               86.285\n",
      "Skew:                           0.661   Prob(JB):                     1.83e-19\n",
      "Kurtosis:                       5.005   Cond. No.                         43.1\n",
      "==============================================================================\n",
      "\n",
      "Warnings:\n",
      "[1] Standard Errors assume that the covariance matrix of the errors is correctly specified.\n",
      "Intercept        10602.391140\n",
      "DX[T.Control]       62.740392\n",
      "Age                 -9.205002\n",
      "dtype: float64\n",
      "                            OLS Regression Results                            \n",
      "==============================================================================\n",
      "Dep. Variable:               L_GP_vol   R-squared:                       0.007\n",
      "Model:                            OLS   Adj. R-squared:                  0.001\n",
      "Method:                 Least Squares   F-statistic:                     1.266\n",
      "Date:                Thu, 11 Jun 2020   Prob (F-statistic):              0.283\n",
      "Time:                        12:43:49   Log-Likelihood:                -2408.7\n",
      "No. Observations:                 359   AIC:                             4823.\n",
      "Df Residuals:                     356   BIC:                             4835.\n",
      "Df Model:                           2                                         \n",
      "Covariance Type:            nonrobust                                         \n",
      "=================================================================================\n",
      "                    coef    std err          t      P>|t|      [0.025      0.975]\n",
      "---------------------------------------------------------------------------------\n",
      "Intercept      1601.6821     29.020     55.193      0.000    1544.611    1658.754\n",
      "DX[T.Control]   -10.7751     21.299     -0.506      0.613     -52.662      31.112\n",
      "Age               2.8125      1.835      1.533      0.126      -0.797       6.422\n",
      "==============================================================================\n",
      "Omnibus:                       39.933   Durbin-Watson:                   1.441\n",
      "Prob(Omnibus):                  0.000   Jarque-Bera (JB):              162.671\n",
      "Skew:                           0.354   Prob(JB):                     4.75e-36\n",
      "Kurtosis:                       6.221   Cond. No.                         43.1\n",
      "==============================================================================\n",
      "\n",
      "Warnings:\n",
      "[1] Standard Errors assume that the covariance matrix of the errors is correctly specified.\n",
      "Intercept        1601.682137\n",
      "DX[T.Control]     -10.775121\n",
      "Age                 2.812509\n",
      "dtype: float64\n",
      "                            OLS Regression Results                            \n",
      "==============================================================================\n",
      "Dep. Variable:             L_thal_vol   R-squared:                       0.009\n",
      "Model:                            OLS   Adj. R-squared:                  0.003\n",
      "Method:                 Least Squares   F-statistic:                     1.555\n",
      "Date:                Thu, 11 Jun 2020   Prob (F-statistic):              0.213\n",
      "Time:                        12:43:49   Log-Likelihood:                -2809.5\n",
      "No. Observations:                 359   AIC:                             5625.\n",
      "Df Residuals:                     356   BIC:                             5637.\n",
      "Df Model:                           2                                         \n",
      "Covariance Type:            nonrobust                                         \n",
      "=================================================================================\n",
      "                    coef    std err          t      P>|t|      [0.025      0.975]\n",
      "---------------------------------------------------------------------------------\n",
      "Intercept      6348.6638     88.615     71.643      0.000    6174.389    6522.938\n",
      "DX[T.Control]   -60.1609     65.038     -0.925      0.356    -188.068      67.747\n",
      "Age               8.6667      5.604      1.547      0.123      -2.354      19.688\n",
      "==============================================================================\n",
      "Omnibus:                      101.445   Durbin-Watson:                   1.850\n",
      "Prob(Omnibus):                  0.000   Jarque-Bera (JB):              565.829\n",
      "Skew:                           1.058   Prob(JB):                    1.35e-123\n",
      "Kurtosis:                       8.775   Cond. No.                         43.1\n",
      "==============================================================================\n",
      "\n",
      "Warnings:\n",
      "[1] Standard Errors assume that the covariance matrix of the errors is correctly specified.\n",
      "Intercept        6348.663799\n",
      "DX[T.Control]     -60.160897\n",
      "Age                 8.666725\n",
      "dtype: float64\n",
      "                            OLS Regression Results                            \n",
      "==============================================================================\n",
      "Dep. Variable:              R_str_vol   R-squared:                       0.002\n",
      "Model:                            OLS   Adj. R-squared:                 -0.004\n",
      "Method:                 Least Squares   F-statistic:                    0.3106\n",
      "Date:                Thu, 11 Jun 2020   Prob (F-statistic):              0.733\n",
      "Time:                        12:43:49   Log-Likelihood:                -3047.2\n",
      "No. Observations:                 359   AIC:                             6100.\n",
      "Df Residuals:                     356   BIC:                             6112.\n",
      "Df Model:                           2                                         \n",
      "Covariance Type:            nonrobust                                         \n",
      "=================================================================================\n",
      "                    coef    std err          t      P>|t|      [0.025      0.975]\n",
      "---------------------------------------------------------------------------------\n",
      "Intercept      1.079e+04    171.799     62.811      0.000    1.05e+04    1.11e+04\n",
      "DX[T.Control]    14.7639    126.091      0.117      0.907    -233.213     262.740\n",
      "Age              -8.5218     10.865     -0.784      0.433     -29.889      12.845\n",
      "==============================================================================\n",
      "Omnibus:                       66.646   Durbin-Watson:                   1.748\n",
      "Prob(Omnibus):                  0.000   Jarque-Bera (JB):              211.921\n",
      "Skew:                           0.815   Prob(JB):                     9.59e-47\n",
      "Kurtosis:                       6.393   Cond. No.                         43.1\n",
      "==============================================================================\n",
      "\n",
      "Warnings:\n",
      "[1] Standard Errors assume that the covariance matrix of the errors is correctly specified.\n",
      "Intercept        10790.973010\n",
      "DX[T.Control]       14.763857\n",
      "Age                 -8.521826\n",
      "dtype: float64\n",
      "                            OLS Regression Results                            \n",
      "==============================================================================\n",
      "Dep. Variable:               R_GP_vol   R-squared:                       0.006\n",
      "Model:                            OLS   Adj. R-squared:                  0.000\n",
      "Method:                 Least Squares   F-statistic:                     1.014\n",
      "Date:                Thu, 11 Jun 2020   Prob (F-statistic):              0.364\n",
      "Time:                        12:43:49   Log-Likelihood:                -2359.7\n",
      "No. Observations:                 359   AIC:                             4725.\n",
      "Df Residuals:                     356   BIC:                             4737.\n",
      "Df Model:                           2                                         \n",
      "Covariance Type:            nonrobust                                         \n",
      "=================================================================================\n",
      "                    coef    std err          t      P>|t|      [0.025      0.975]\n",
      "---------------------------------------------------------------------------------\n",
      "Intercept      1459.1399     25.317     57.636      0.000    1409.351    1508.929\n",
      "DX[T.Control]   -18.3467     18.581     -0.987      0.324     -54.889      18.195\n",
      "Age               1.7219      1.601      1.075      0.283      -1.427       4.871\n",
      "==============================================================================\n",
      "Omnibus:                       33.114   Durbin-Watson:                   1.527\n",
      "Prob(Omnibus):                  0.000   Jarque-Bera (JB):               99.895\n",
      "Skew:                           0.367   Prob(JB):                     2.03e-22\n",
      "Kurtosis:                       5.478   Cond. No.                         43.1\n",
      "==============================================================================\n",
      "\n",
      "Warnings:\n",
      "[1] Standard Errors assume that the covariance matrix of the errors is correctly specified.\n",
      "Intercept        1459.139851\n",
      "DX[T.Control]     -18.346731\n",
      "Age                 1.721902\n",
      "dtype: float64\n",
      "                            OLS Regression Results                            \n",
      "==============================================================================\n",
      "Dep. Variable:             R_thal_vol   R-squared:                       0.012\n",
      "Model:                            OLS   Adj. R-squared:                  0.006\n",
      "Method:                 Least Squares   F-statistic:                     2.129\n",
      "Date:                Thu, 11 Jun 2020   Prob (F-statistic):              0.120\n",
      "Time:                        12:43:49   Log-Likelihood:                -2803.4\n",
      "No. Observations:                 359   AIC:                             5613.\n",
      "Df Residuals:                     356   BIC:                             5624.\n",
      "Df Model:                           2                                         \n",
      "Covariance Type:            nonrobust                                         \n",
      "=================================================================================\n",
      "                    coef    std err          t      P>|t|      [0.025      0.975]\n",
      "---------------------------------------------------------------------------------\n",
      "Intercept      6197.9961     87.114     71.148      0.000    6026.674    6369.318\n",
      "DX[T.Control]   -83.2734     63.936     -1.302      0.194    -209.014      42.467\n",
      "Age               9.1719      5.509      1.665      0.097      -1.663      20.006\n",
      "==============================================================================\n",
      "Omnibus:                       90.848   Durbin-Watson:                   1.840\n",
      "Prob(Omnibus):                  0.000   Jarque-Bera (JB):              435.674\n",
      "Skew:                           0.978   Prob(JB):                     2.48e-95\n",
      "Kurtosis:                       8.030   Cond. No.                         43.1\n",
      "==============================================================================\n",
      "\n",
      "Warnings:\n",
      "[1] Standard Errors assume that the covariance matrix of the errors is correctly specified.\n",
      "Intercept        6197.996100\n",
      "DX[T.Control]     -83.273363\n",
      "Age                 9.171943\n",
      "dtype: float64\n"
     ]
    }
   ],
   "source": [
    "# Linear regression on unharmonized data\n",
    "models_unh = pd.Series(dtype='object')\n",
    "model_unh_params = pd.Series(dtype = 'object')\n",
    "for nucleus in features:\n",
    "    models_unh[nucleus] = ols(formula = nucleus + ' ~ DX + Age', data = data).fit()\n",
    "    print(models_unh[nucleus].summary())\n",
    "    model_unh_params[nucleus] = models_unh[nucleus].params\n",
    "    print(model_unh_params[nucleus])"
   ]
  },
  {
   "cell_type": "markdown",
   "metadata": {},
   "source": [
    "## Interactive Visualizations\n"
   ]
  },
  {
   "cell_type": "code",
   "execution_count": 8,
   "metadata": {},
   "outputs": [
    {
     "name": "stdout",
     "output_type": "stream",
     "text": [
      "Enabling notebook extension jupyter-js-widgets/extension...\r\n",
      "      - Validating: \u001b[32mOK\u001b[0m\r\n"
     ]
    }
   ],
   "source": [
    "# Set up ipywidgets for interactive chart.\n",
    "!jupyter nbextension enable --py widgetsnbextension\n",
    "import ipywidgets as widgets\n",
    "from ipywidgets import interact, fixed"
   ]
  },
  {
   "cell_type": "markdown",
   "metadata": {},
   "source": [
    "### Scatterplots of nucleus volume against Age and Total Brain Volume\n",
    "### Split violin plot showing original and harmonized distributions for each site"
   ]
  },
  {
   "cell_type": "code",
   "execution_count": 9,
   "metadata": {},
   "outputs": [
    {
     "data": {
      "application/vnd.jupyter.widget-view+json": {
       "model_id": "b8df31ebab0a4b8c87d2b1d223e16583",
       "version_major": 2,
       "version_minor": 0
      },
      "text/plain": [
       "interactive(children=(Dropdown(description='nucleus', options=('L_str_vol', 'L_GP_vol', 'L_thal_vol', 'R_str_v…"
      ]
     },
     "metadata": {},
     "output_type": "display_data"
    },
    {
     "data": {
      "text/plain": [
       "<function __main__.plot_panel(nucleus, data1, data2)>"
      ]
     },
     "execution_count": 9,
     "metadata": {},
     "output_type": "execute_result"
    }
   ],
   "source": [
    "# Function to plot original and harmonized distributions together, by site.\n",
    "def plot_dual_distributions(x, y, data1, data2, scale = 'count', ax=None):\n",
    "    # Plots two distibutions (e.g. harmonized and unharmonized data) as the two halves of stacked violin plots.\n",
    "    plt.figure()\n",
    "    vp_data = pd.DataFrame({x: data1[x], y: data1[y], 'Legend': 'Unharmonized'})\n",
    "    vp_data = vp_data.append(pd.DataFrame({x: data2[x], y: data2[y], 'Legend': 'Harmonized'}))\n",
    "    ax_h_uh = sns.violinplot(y = y, x = x, data = vp_data, hue = 'Legend', split = True, scale = scale, ax = ax)\n",
    "    #ax_h_uh.legend().remove()\n",
    "    plt.show()\n",
    "\n",
    "# Plot a panel of figures useful for quick data exploration and verification.\n",
    "def plot_panel(nucleus, data1, data2):\n",
    "    fig, axes = plt.subplots(ncols=2)\n",
    "    plt.subplots_adjust(wspace = 0.5)\n",
    "    sns.scatterplot('Age', nucleus, data = data, hue = \"DX\", ax=axes[0])\n",
    "    sns.scatterplot('TBV', nucleus, data = data, hue = \"DX\", ax=axes[1])\n",
    "    plot_dual_distributions(x=nucleus, y = 'Site', data1 = data1, data2 = data2, scale = 'count')\n",
    "\n",
    "interact(plot_panel, nucleus = features, data1 = fixed(data), data2=fixed(harmonized_features))"
   ]
  },
  {
   "cell_type": "markdown",
   "metadata": {},
   "source": [
    "### Plot fitted values against residuals for the ComBat-harmonized data"
   ]
  },
  {
   "cell_type": "code",
   "execution_count": 13,
   "metadata": {},
   "outputs": [],
   "source": [
    "# Function to plot fitted values against residuals\n",
    "def plot_fitted_vs_residual(models, ex_data, x_fitted_col, y_resid_col, display_col, hue_col, title_add = None):\n",
    "    plt.figure()\n",
    "    fitted_y = models[display_col].fittedvalues\n",
    "    resid = models[display_col].resid\n",
    "    # The following is not ideal. Need to revisit this solution.\n",
    "    fit_resid_df = pd.DataFrame({'Residual': resid, 'Fitted_Value': fitted_y, 'Site': ex_data['Site'], 'DX': ex_data['DX']})\n",
    "    ax = sns.scatterplot(fitted_y, resid, hue = hue_col, data=fit_resid_df)\n",
    "    ax.set_title('Fitted vs. Residual Plot for ' + display_col + title_add)\n",
    "    ax.set(xlabel = 'Fitted', ylabel = 'Residual')\n",
    "    ax.legend().remove()\n",
    "    plt.show()    "
   ]
  },
  {
   "cell_type": "code",
   "execution_count": 18,
   "metadata": {},
   "outputs": [
    {
     "data": {
      "application/vnd.jupyter.widget-view+json": {
       "model_id": "96186bb62e71412bb8f4432075c9b32f",
       "version_major": 2,
       "version_minor": 0
      },
      "text/plain": [
       "interactive(children=(Dropdown(description='display_col', options=('L_str_vol', 'L_GP_vol', 'L_thal_vol', 'R_s…"
      ]
     },
     "metadata": {},
     "output_type": "display_data"
    },
    {
     "data": {
      "text/plain": [
       "<function __main__.plot_fitted_vs_residual(models, ex_data, x_fitted_col, y_resid_col, display_col, hue_col, title_add=None)>"
      ]
     },
     "execution_count": 18,
     "metadata": {},
     "output_type": "execute_result"
    }
   ],
   "source": [
    "# Plot fitted values vs. residuals of ComBat harmonized data\n",
    "\n",
    "interact(plot_fitted_vs_residual, \n",
    "         models = fixed(models), \n",
    "         ex_data = fixed(harmonized_features),\n",
    "         x_fitted_col = fixed('Fitted_Value'), \n",
    "         y_resid_col = fixed('Residual'), \n",
    "         display_col = features, \n",
    "         hue_col = ['DX', 'Site'],\n",
    "         title_add = fixed(' ComBat Harmonized'))"
   ]
  },
  {
   "cell_type": "code",
   "execution_count": 19,
   "metadata": {},
   "outputs": [
    {
     "data": {
      "application/vnd.jupyter.widget-view+json": {
       "model_id": "bb6bbee4e0c746d382cd7c2e9a6abc63",
       "version_major": 2,
       "version_minor": 0
      },
      "text/plain": [
       "interactive(children=(Dropdown(description='display_col', options=('L_str_vol', 'L_GP_vol', 'L_thal_vol', 'R_s…"
      ]
     },
     "metadata": {},
     "output_type": "display_data"
    },
    {
     "data": {
      "text/plain": [
       "<function __main__.plot_fitted_vs_residual(models, ex_data, x_fitted_col, y_resid_col, display_col, hue_col, title_add=None)>"
      ]
     },
     "execution_count": 19,
     "metadata": {},
     "output_type": "execute_result"
    }
   ],
   "source": [
    "# Plot fitted values vs. residuals of unharmonized data\n",
    "\n",
    "interact(plot_fitted_vs_residual, \n",
    "         models = fixed(models_unh), \n",
    "         ex_data = fixed(data),\n",
    "         x_fitted_col = fixed('Fitted_Value'), \n",
    "         y_resid_col = fixed('Residual'), \n",
    "         display_col = features, \n",
    "         hue_col = ['DX', 'Site'],\n",
    "         title_add = fixed(' Unharmonized'))"
   ]
  },
  {
   "cell_type": "code",
   "execution_count": null,
   "metadata": {},
   "outputs": [],
   "source": []
  }
 ],
 "metadata": {
  "kernelspec": {
   "display_name": "Python [conda env:harmonization] *",
   "language": "python",
   "name": "conda-env-harmonization-py"
  },
  "language_info": {
   "codemirror_mode": {
    "name": "ipython",
    "version": 3
   },
   "file_extension": ".py",
   "mimetype": "text/x-python",
   "name": "python",
   "nbconvert_exporter": "python",
   "pygments_lexer": "ipython3",
   "version": "3.7.7"
  }
 },
 "nbformat": 4,
 "nbformat_minor": 2
}
