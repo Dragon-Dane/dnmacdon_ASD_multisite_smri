{
 "cells": [
  {
   "cell_type": "markdown",
   "metadata": {
    "slideshow": {
     "slide_type": "slide"
    }
   },
   "source": [
    "# <p style=\"text-align: center;\">Harmonizing Multi-Site Structural MRI Datasets</p>\n",
    "\n",
    "### <p style=\"text-align: center;\">David MacDonald</p>"
   ]
  },
  {
   "cell_type": "markdown",
   "metadata": {
    "slideshow": {
     "slide_type": "notes"
    }
   },
   "source": [
    "# Plan\n",
    "- Start simple.\n",
    "- Add to the presentation every day.\n",
    "- Look at other presentations every day. Brainhack ones would be a good start.\n",
    "- Make it better over the course of a week.\n",
    "- For now, can use canva for graphics.\n",
    "- OR, LEARN to use GitPitch, which has more layout tools, I think. It was pretty cool.\n",
    "\n",
    "- Try to describe my workflow using freepik and/or canva for images, icons, arrows, etc.\n",
    "- Get icons for all of the tools that I'm using"
   ]
  },
  {
   "cell_type": "markdown",
   "metadata": {
    "slideshow": {
     "slide_type": "slide"
    }
   },
   "source": [
    "## My Background\n",
    "\n",
    "* git and github?\n",
    "* bash\n",
    "* programming (learning R, C++ a *long* time ago)\n",
    "* HPC\n",
    "* Excel, SPSS"
   ]
  },
  {
   "cell_type": "markdown",
   "metadata": {
    "slideshow": {
     "slide_type": "subslide"
    }
   },
   "source": [
    "# Goals\n",
    "\n",
    "## Primary Goal: Learn how to use ComBat to harmonize multi-site sMRI data"
   ]
  },
  {
   "cell_type": "markdown",
   "metadata": {
    "slideshow": {
     "slide_type": "fragment"
    }
   },
   "source": [
    "After the first week, my goals changed.\n",
    "\n",
    "I still want to use ComBat for my multi-site data, but now I also want to:\n",
    "* Learn how to use the Python ecosystem for data analysis and visualization\n",
    "* Learn how to use git and GitHub properly, and use them for collaboration and project management\n",
    "    * Contribute to an open source project using the Github issue system, fork, and pull request\n",
    "* Improve my science communication skills, through:\n",
    "    * Learning how to create interactive representations of data\n",
    "    * Using new tools to improve presentations\n",
    "    * Using jupyter notebooks to package code, data visualization, and narrative together"
   ]
  },
  {
   "cell_type": "code",
   "execution_count": null,
   "metadata": {},
   "outputs": [],
   "source": []
  }
 ],
 "metadata": {
  "celltoolbar": "Slideshow",
  "kernelspec": {
   "display_name": "Python 3",
   "language": "python",
   "name": "python3"
  },
  "language_info": {
   "codemirror_mode": {
    "name": "ipython",
    "version": 3
   },
   "file_extension": ".py",
   "mimetype": "text/x-python",
   "name": "python",
   "nbconvert_exporter": "python",
   "pygments_lexer": "ipython3",
   "version": "3.7.7"
  }
 },
 "nbformat": 4,
 "nbformat_minor": 4
}
