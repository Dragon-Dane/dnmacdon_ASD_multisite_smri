{
 "cells": [
  {
   "cell_type": "markdown",
   "metadata": {
    "slideshow": {
     "slide_type": "slide"
    }
   },
   "source": [
    "# <p style=\"text-align: center;\">Harmonizing Multi-Site Structural MRI Datasets</p>\n",
    "\n",
    "### <p style=\"text-align: center;\">David MacDonald</p>"
   ]
  },
  {
   "cell_type": "markdown",
   "metadata": {
    "slideshow": {
     "slide_type": "notes"
    }
   },
   "source": [
    "# Plan\n",
    "- Start simple.\n",
    "- Add to the presentation every day.\n",
    "- Look at other presentations every day. Brainhack ones would be a good start.\n",
    "- Make it better over the course of a week.\n",
    "- For now, can use canva for graphics.\n",
    "- OR, LEARN to use GitPitch, which has more layout tools, I think. It was pretty cool.\n",
    "\n",
    "- Try to describe my workflow using freepik and/or canva for images, icons, arrows, etc.\n",
    "- Get icons for all of the tools that I'm using"
   ]
  },
  {
   "cell_type": "markdown",
   "metadata": {
    "slideshow": {
     "slide_type": "slide"
    }
   },
   "source": [
    "## Multi-site MRI\n",
    "\n",
    "\n",
    " * Neuroimaging data, such as MRI, is time-consuming and very costly to collect, but rich in information.\n",
    " * Multi-site, open data allows for much larger sample sizes and much greater statistical power in MRI studies, while distributing the cost across many research centers.\n",
    "\n"
   ]
  },
  {
   "cell_type": "markdown",
   "metadata": {
    "slideshow": {
     "slide_type": "fragment"
    }
   },
   "source": [
    "### <p style=\"text-align: center;\">HOWEVER . . .</p>"
   ]
  },
  {
   "cell_type": "markdown",
   "metadata": {
    "slideshow": {
     "slide_type": "subslide"
    }
   },
   "source": [
    " ### <p style=\"text-align: center;\">HOWEVER . . .</p>\n",
    " \n",
    " * Differences between scans due to technical factors can overwhelm those due to biological factors\n",
    " ### <p style=\"text-align: left;\">This introduces VARIABILITY, and . . . </p>\n",
    "\n",
    "  "
   ]
  },
  {
   "cell_type": "markdown",
   "metadata": {
    "slideshow": {
     "slide_type": "fragment"
    }
   },
   "source": [
    " \n",
    " \n",
    " \n",
    " * Different sites likely sample different populations\n",
    " \n",
    " ### <p style=\"text-align: left;\">Which introduces BIAS. . . </p>"
   ]
  },
  {
   "cell_type": "markdown",
   "metadata": {
    "slideshow": {
     "slide_type": "subslide"
    }
   },
   "source": [
    "## Purpose\n",
    "\n",
    "With this project, I would like to learn and apply two techniques for inter-site data harmonization:\n",
    " * Use linear mixed-effect models.\n",
    " * Use the open source [neuroCombat](https://github.com/Jfortin1/ComBatHarmonization) library, which was originally intended to mitigate batch effects in genetic studies, but has since been adapted to work with neuroimaging data.\n"
   ]
  },
  {
   "cell_type": "markdown",
   "metadata": {
    "slideshow": {
     "slide_type": "slide"
    }
   },
   "source": [
    "## My (Relevant) Background\n",
    "\n",
    "* 1st year M.Sc. student at McGill University\n",
    "* Using structural MRI to study subcortical structures in Autism Spectrum Disorders"
   ]
  },
  {
   "cell_type": "markdown",
   "metadata": {
    "slideshow": {
     "slide_type": "fragment"
    }
   },
   "source": [
    "* Prior neuroscience work in a wet lab: IHC and molecular\n",
    "* Experience using Excel, SPSS point-and-click interface"
   ]
  },
  {
   "cell_type": "markdown",
   "metadata": {
    "slideshow": {
     "slide_type": "fragment"
    }
   },
   "source": [
    "* Some experience with:\n",
    "    * bash\n",
    "    * programming (learning R, C++ a *long* time ago)\n",
    "    * HPC through Compute Canada"
   ]
  },
  {
   "cell_type": "markdown",
   "metadata": {
    "slideshow": {
     "slide_type": "fragment"
    }
   },
   "source": [
    "* Minimal experience with:\n",
    "    * git and github\n"
   ]
  },
  {
   "cell_type": "markdown",
   "metadata": {
    "slideshow": {
     "slide_type": "notes"
    }
   },
   "source": [
    "# Learning Goals and Deliverables Section"
   ]
  },
  {
   "cell_type": "markdown",
   "metadata": {
    "slideshow": {
     "slide_type": "notes"
    }
   },
   "source": [
    "# ComBat Description Section"
   ]
  },
  {
   "cell_type": "markdown",
   "metadata": {
    "slideshow": {
     "slide_type": "notes"
    }
   },
   "source": [
    "# Workflow Section"
   ]
  },
  {
   "cell_type": "markdown",
   "metadata": {
    "slideshow": {
     "slide_type": "notes"
    }
   },
   "source": [
    "# Results Section"
   ]
  },
  {
   "cell_type": "markdown",
   "metadata": {
    "slideshow": {
     "slide_type": "notes"
    }
   },
   "source": [
    "# Conclusion Section"
   ]
  },
  {
   "cell_type": "markdown",
   "metadata": {
    "slideshow": {
     "slide_type": "slide"
    }
   },
   "source": [
    "## Open Science Tools\n",
    "\n",
    " * Git and GitHub"
   ]
  },
  {
   "cell_type": "markdown",
   "metadata": {
    "slideshow": {
     "slide_type": "fragment"
    }
   },
   "source": [
    " * R\n",
    " * Python\n",
    "     * pandas for data manipulation\n",
    "     * seaborn for data visualization\n",
    "     * ipywidgets for interactive data visualization\n",
    "     * statsmodels for data analysis"
   ]
  },
  {
   "cell_type": "markdown",
   "metadata": {
    "slideshow": {
     "slide_type": "fragment"
    }
   },
   "source": [
    " * Jupyter Notebooks\n",
    "     * Presentations with RISE"
   ]
  },
  {
   "cell_type": "markdown",
   "metadata": {
    "slideshow": {
     "slide_type": "fragment"
    }
   },
   "source": [
    " * Virtualization with conda\n",
    " * Containerization with Docker\n",
    "     * Docker Hub ?????????????????????????????????????????????????"
   ]
  },
  {
   "cell_type": "markdown",
   "metadata": {
    "slideshow": {
     "slide_type": "slide"
    }
   },
   "source": [
    "## Skills and Technologies\n",
    "\n",
    " * Linear mixed-effects modelling with statsmodels in python\n",
    " * [ComBat](https://github.com/Jfortin1/ComBatHarmonization) for harmonizing neuroimaging data\n",
    " \n",
    " Both were learned independently during BHS, with support of instructors and peers"
   ]
  },
  {
   "cell_type": "markdown",
   "metadata": {
    "slideshow": {
     "slide_type": "fragment"
    }
   },
   "source": [
    "## Relevance\n",
    "\n",
    " * With the increasing use of open datasets in neuroimaging, it is important to have tools to manage non-biological sources of variation in scans\n",
    " * ComBat is used extensively in genetics, relatively new in neuroimaging\n",
    "     * Has been applied to DTI, fMRI, CT data, but not to subcortical volume / morphometry\n",
    " * Uses entirely open science software and open data"
   ]
  },
  {
   "cell_type": "markdown",
   "metadata": {
    "slideshow": {
     "slide_type": "subslide"
    }
   },
   "source": [
    "## Further Work\n",
    "\n",
    " * Contribute missing features to the Python version of ComBat on GitHub\n",
    "     * Handling missing values\n",
    "     * Empirical Bayes: visualizing parameter distributions\n",
    " * Compare to meta-analytic combination of single-site data\n",
    " * Improve visualizations"
   ]
  },
  {
   "cell_type": "code",
   "execution_count": null,
   "metadata": {},
   "outputs": [],
   "source": []
  }
 ],
 "metadata": {
  "celltoolbar": "Slideshow",
  "kernelspec": {
   "display_name": "Python 3",
   "language": "python",
   "name": "python3"
  },
  "language_info": {
   "codemirror_mode": {
    "name": "ipython",
    "version": 3
   },
   "file_extension": ".py",
   "mimetype": "text/x-python",
   "name": "python",
   "nbconvert_exporter": "python",
   "pygments_lexer": "ipython3",
   "version": "3.7.7"
  }
 },
 "nbformat": 4,
 "nbformat_minor": 4
}
