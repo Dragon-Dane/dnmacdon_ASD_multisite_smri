{
 "cells": [
  {
   "cell_type": "markdown",
   "metadata": {
    "slideshow": {
     "slide_type": "slide"
    }
   },
   "source": [
    "# <p style=\"text-align: center;\">Harmonizing Multi-Site Structural MRI Datasets</p>\n",
    "\n",
    "### <p style=\"text-align: center;\">David MacDonald</p>"
   ]
  },
  {
   "cell_type": "markdown",
   "metadata": {
    "slideshow": {
     "slide_type": "notes"
    }
   },
   "source": [
    "# Plan\n",
    "- Start simple.\n",
    "- Add to the presentation every day.\n",
    "- Look at other presentations every day. Brainhack ones would be a good start.\n",
    "- Make it better over the course of a week.\n",
    "- For now, can use canva for graphics.\n",
    "- OR, LEARN to use GitPitch, which has more layout tools, I think. It was pretty cool.\n",
    "\n",
    "- Try to describe my workflow using freepik and/or canva for images, icons, arrows, etc.\n",
    "- Get icons for all of the tools that I'm using\n",
    "\n",
    "# To Do\n",
    " * Fix the Purpose section. It's not clear what's my BHS project and what's not. Maybe just a slide before describing my own research, then on to purpose."
   ]
  },
  {
   "cell_type": "markdown",
   "metadata": {
    "slideshow": {
     "slide_type": "slide"
    }
   },
   "source": [
    "## Multi-site MRI\n",
    "\n",
    "\n",
    " * Neuroimaging data, such as MRI, is time-consuming and very costly to collect, but rich in information.\n",
    " * Multi-site, open data allows for much larger sample sizes and much greater statistical power in MRI studies, while distributing the cost across many research centers.\n",
    "\n"
   ]
  },
  {
   "cell_type": "markdown",
   "metadata": {
    "slideshow": {
     "slide_type": "fragment"
    }
   },
   "source": [
    "### <p style=\"text-align: center;\">HOWEVER . . .</p>"
   ]
  },
  {
   "cell_type": "markdown",
   "metadata": {
    "slideshow": {
     "slide_type": "subslide"
    }
   },
   "source": [
    " ### <p style=\"text-align: center;\">HOWEVER . . .</p>\n",
    " \n",
    " * Differences between scans due to technical factors can overwhelm those due to biological factors\n",
    " ### <p style=\"text-align: left;\">This introduces VARIABILITY, and . . . </p>\n",
    "\n",
    "  "
   ]
  },
  {
   "cell_type": "markdown",
   "metadata": {
    "slideshow": {
     "slide_type": "fragment"
    }
   },
   "source": [
    " \n",
    " \n",
    " \n",
    " * Different sites likely sample different populations\n",
    " \n",
    " ### <p style=\"text-align: left;\">Which introduces BIAS. . . </p>"
   ]
  },
  {
   "cell_type": "markdown",
   "metadata": {
    "slideshow": {
     "slide_type": "subslide"
    }
   },
   "source": [
    "## Purpose\n",
    "\n",
    "### The Context\n",
    "Examining the volume of thalamus, globus pallidus, striatum in ASD, using the [ABIDE](http://fcon_1000.projects.nitrc.org/indi/abide/) dataset"
   ]
  },
  {
   "cell_type": "markdown",
   "metadata": {
    "slideshow": {
     "slide_type": "fragment"
    }
   },
   "source": [
    "### Multi-Site Data Harmonization\n",
    " * Use linear mixed-effect models.\n",
    " * Use the open source [neuroCombat](https://github.com/Jfortin1/ComBatHarmonization) library, which was originally intended to mitigate batch effects in genetic studies, but has since been adapted to work with neuroimaging data.\n"
   ]
  },
  {
   "cell_type": "markdown",
   "metadata": {
    "slideshow": {
     "slide_type": "slide"
    }
   },
   "source": [
    "## My (Relevant) Background\n",
    "\n",
    "* 1st year M.Sc. student at McGill University\n",
    "* Using structural MRI to study subcortical structures in Autism Spectrum Disorders"
   ]
  },
  {
   "cell_type": "markdown",
   "metadata": {
    "slideshow": {
     "slide_type": "fragment"
    }
   },
   "source": [
    "* Prior neuroscience work in a wet lab: IHC and molecular\n",
    "* Experience using Excel, SPSS point-and-click interface"
   ]
  },
  {
   "cell_type": "markdown",
   "metadata": {
    "slideshow": {
     "slide_type": "fragment"
    }
   },
   "source": [
    "* Some experience with:\n",
    "    * bash\n",
    "    * programming (learning R, C++ a *long* time ago)\n",
    "    * HPC through Compute Canada"
   ]
  },
  {
   "cell_type": "markdown",
   "metadata": {
    "slideshow": {
     "slide_type": "fragment"
    }
   },
   "source": [
    "* Minimal experience with:\n",
    "    * git and github\n"
   ]
  },
  {
   "cell_type": "markdown",
   "metadata": {
    "slideshow": {
     "slide_type": "slide"
    }
   },
   "source": [
    "## Learning Goals\n",
    " * Learn:\n",
    "     * Git and GitHub\n",
    "     * Python, including data manipulation and visualization\n",
    "        * Python environment virtualization: conda and/or venv\n",
    "     * Jupyter notebooks\n",
    "     * [ComBat](https://github.com/Jfortin1/ComBatHarmonization)"
   ]
  },
  {
   "cell_type": "markdown",
   "metadata": {
    "slideshow": {
     "slide_type": "slide"
    }
   },
   "source": [
    "## ComBat\n",
    "$$y_{r,i,j} = \\alpha_r + X_{i,j} \\beta_r + \\gamma_{r,i} + \\delta_{r,i} \\epsilon_{r,i,j}$$\n",
    "\n",
    "$$\\epsilon_{r,i,j} = \\frac{y_{r,i,j} - \\alpha_r - X_{i,j} \\beta_r - \\gamma_{r,i}}{\\delta_{r,i}}$$\n",
    "\n",
    "$$y_{r,i,j}^{ComBat} = \\alpha_r + X_{i,j} \\beta_r + \\epsilon_{r,i,j}$$\n"
   ]
  },
  {
   "cell_type": "markdown",
   "metadata": {
    "slideshow": {
     "slide_type": "subslide"
    }
   },
   "source": [
    "<center><img src=\"slide_test2.png\" alt=\"Image\" style=\"width: 1500px\" align=\"center\"/></center>"
   ]
  },
  {
   "cell_type": "markdown",
   "metadata": {
    "slideshow": {
     "slide_type": "notes"
    }
   },
   "source": [
    "# Workflow Section"
   ]
  },
  {
   "cell_type": "markdown",
   "metadata": {
    "slideshow": {
     "slide_type": "notes"
    }
   },
   "source": [
    "# Results Section"
   ]
  },
  {
   "cell_type": "markdown",
   "metadata": {
    "slideshow": {
     "slide_type": "notes"
    }
   },
   "source": [
    "# Conclusion Section"
   ]
  },
  {
   "cell_type": "markdown",
   "metadata": {
    "slideshow": {
     "slide_type": "slide"
    }
   },
   "source": [
    "## Open Science Tools\n",
    "\n",
    " * Git and GitHub"
   ]
  },
  {
   "cell_type": "markdown",
   "metadata": {
    "slideshow": {
     "slide_type": "fragment"
    }
   },
   "source": [
    " * bash scripting\n",
    " * R\n",
    " * Python\n",
    "     * pandas for data manipulation\n",
    "     * seaborn for data visualization\n",
    "     * ipywidgets for interactive data visualization\n",
    "     * statsmodels for data analysis"
   ]
  },
  {
   "cell_type": "markdown",
   "metadata": {
    "slideshow": {
     "slide_type": "fragment"
    }
   },
   "source": [
    " * Jupyter Notebooks\n",
    "     * Presentations with RISE"
   ]
  },
  {
   "cell_type": "markdown",
   "metadata": {
    "slideshow": {
     "slide_type": "fragment"
    }
   },
   "source": [
    " * Virtualization with conda\n",
    " * Containerization with Docker\n",
    "     * Docker Hub ?????????????????????????????????????????????????"
   ]
  },
  {
   "cell_type": "markdown",
   "metadata": {
    "slideshow": {
     "slide_type": "slide"
    }
   },
   "source": [
    "## Skills and Technologies\n",
    "\n",
    " * Linear mixed-effects modelling with statsmodels in python\n",
    " * [ComBat](https://github.com/Jfortin1/ComBatHarmonization) for harmonizing neuroimaging data\n",
    " \n",
    " Both were learned independently during BHS, with support of instructors and peers"
   ]
  },
  {
   "cell_type": "markdown",
   "metadata": {
    "slideshow": {
     "slide_type": "fragment"
    }
   },
   "source": [
    "## Relevance\n",
    "\n",
    " * With the increasing use of open datasets in neuroimaging, it is important to have tools to manage non-biological sources of variation in scans\n",
    " * ComBat is used extensively in genetics, relatively new in neuroimaging\n",
    "     * Has been applied to DTI, fMRI, CT data, but not to subcortical volume / morphometry\n",
    " * Uses entirely open science software and open data"
   ]
  },
  {
   "cell_type": "markdown",
   "metadata": {
    "slideshow": {
     "slide_type": "subslide"
    }
   },
   "source": [
    "## Further Work\n",
    "\n",
    " * Contribute missing features to the Python version of ComBat on GitHub\n",
    "     * Handling missing values\n",
    "     * Empirical Bayes: visualizing parameter distributions\n",
    " * Compare to meta-analytic combination of single-site data\n",
    " * Improve visualizations\n",
    " * Determine whether using empirical Bayes improves the analysis for this type of data (low number of features)"
   ]
  },
  {
   "cell_type": "markdown",
   "metadata": {
    "slideshow": {
     "slide_type": "slide"
    }
   },
   "source": [
    "## Challenges\n",
    "\n",
    " * Python version of ComBat does not handle missing values\n",
    "     * Chose to use R version\n",
    "     * Planned to use rpy2\n",
    " * Problems with setting up reproducible environment for R\n",
    "     * Could not virtualize R environment\n",
    "     * Version conflicts with required packages\n",
    "     * Conda interacted with R environment\n",
    " * Docker setup required manual editing of neuroDocker file\n",
    "     * No problem! BHS presentation was excellent resource\n",
    " * Jupyter notebook can disconnect from server, meaning that saving fails until you reconnect by finding and entering the correct token. Lost several hours of work in Python."
   ]
  },
  {
   "cell_type": "markdown",
   "metadata": {
    "slideshow": {
     "slide_type": "subslide"
    }
   },
   "source": [
    "## Unexpected Benefits\n",
    "\n",
    " * Created a toy pipeline using multiple tools and bash scripting\n",
    " * Used Docker to containerize the pipeline\n",
    " * Interactive visualization of data\n",
    " * "
   ]
  },
  {
   "cell_type": "code",
   "execution_count": null,
   "metadata": {},
   "outputs": [],
   "source": []
  }
 ],
 "metadata": {
  "celltoolbar": "Slideshow",
  "kernelspec": {
   "display_name": "Python 3",
   "language": "python",
   "name": "python3"
  },
  "language_info": {
   "codemirror_mode": {
    "name": "ipython",
    "version": 3
   },
   "file_extension": ".py",
   "mimetype": "text/x-python",
   "name": "python",
   "nbconvert_exporter": "python",
   "pygments_lexer": "ipython3",
   "version": "3.7.7"
  }
 },
 "nbformat": 4,
 "nbformat_minor": 4
}
