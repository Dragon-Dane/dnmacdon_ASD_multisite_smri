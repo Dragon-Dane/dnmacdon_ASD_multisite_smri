{
 "cells": [
  {
   "cell_type": "code",
   "execution_count": 20,
   "metadata": {
    "slideshow": {
     "slide_type": "skip"
    }
   },
   "outputs": [],
   "source": [
    "import pandas as pd\n",
    "import matplotlib.pyplot as plt\n",
    "import seaborn as sns\n",
    "import math\n",
    "import numpy as np"
   ]
  },
  {
   "cell_type": "code",
   "execution_count": 21,
   "metadata": {
    "slideshow": {
     "slide_type": "skip"
    }
   },
   "outputs": [
    {
     "name": "stdout",
     "output_type": "stream",
     "text": [
      "Enabling notebook extension jupyter-js-widgets/extension...\r\n",
      "      - Validating: \u001b[32mOK\u001b[0m\r\n"
     ]
    }
   ],
   "source": [
    "# Set up ipywidgets for interactive chart.\n",
    "!jupyter nbextension enable --py widgetsnbextension\n",
    "import ipywidgets as widgets\n",
    "from ipywidgets import interact, fixed"
   ]
  },
  {
   "cell_type": "markdown",
   "metadata": {
    "slideshow": {
     "slide_type": "skip"
    }
   },
   "source": [
    "### Function for Effect Size Calculation"
   ]
  },
  {
   "cell_type": "code",
   "execution_count": 22,
   "metadata": {
    "slideshow": {
     "slide_type": "skip"
    }
   },
   "outputs": [],
   "source": [
    "# Function to compute effect sizes\n",
    "# Based on method in Nakagawa, S. and I.C. Cuthill. (2007). Biol. Rev. 82. pp. 591-605.\n",
    "\n",
    "import math\n",
    "\n",
    "def cohensd(t, df, n1, n2):\n",
    "    d = ( t * (n1+n2) ) / (math.sqrt(n1*n2) * math.sqrt(df))\n",
    "    se = math.sqrt( ((n1+n2-1)/(n1+n2-3)) * ( (4/(n1+n2)) * (1 + (d**2)/8) ))\n",
    "    return {'d': d, 'se': se, 'lower_ci': d-1.96*se, 'upper_ci': d+1.96*se}"
   ]
  },
  {
   "cell_type": "markdown",
   "metadata": {
    "slideshow": {
     "slide_type": "skip"
    }
   },
   "source": [
    "### Functions to Visualize the Data"
   ]
  },
  {
   "cell_type": "code",
   "execution_count": 23,
   "metadata": {
    "slideshow": {
     "slide_type": "skip"
    }
   },
   "outputs": [],
   "source": [
    "# Plot distributions of the data by subset. These are meant to be overlaid, so just show the KDE.\n",
    "def plot_distributions(data, subset_col, display_col):\n",
    "    for sub in data[subset_col].unique():\n",
    "        subset=data[data[subset_col] == sub]\n",
    "        sns.distplot(subset[display_col],hist=False, kde=True, label=sub)"
   ]
  },
  {
   "cell_type": "code",
   "execution_count": 24,
   "metadata": {
    "slideshow": {
     "slide_type": "skip"
    }
   },
   "outputs": [],
   "source": [
    "# Plot distributions, using stacked violin plots, split by the values in y.\n",
    "def plot_stacked_dists(x, y, data, scale = 'count'):\n",
    "    # Plot the distributions of ages across all sites. Extra hue_class column is a hacky solution to get seaborn \n",
    "    # to display half a violin plot.\n",
    "    plt.figure()\n",
    "    sns.set(style = 'whitegrid')\n",
    "    vp_data = pd.DataFrame({'idx': data.index, x: data[x], y: data[y], 'hue_class': 0})\n",
    "    vp_data['hue_class'].loc[-1] = 999\n",
    "    ax_vp = sns.violinplot(y = y, x = x, data = vp_data, hue = 'hue_class', split = True, scale = scale)\n",
    "    ax_vp.legend().remove()\n",
    "    plt.show()"
   ]
  },
  {
   "cell_type": "code",
   "execution_count": 51,
   "metadata": {
    "slideshow": {
     "slide_type": "skip"
    }
   },
   "outputs": [],
   "source": [
    "# Function to plot original and harmonized distributions together, by site.\n",
    "def plot_dual_distributions(x, y, data_unharmonized, data_harmonized, scale = 'count'):\n",
    "    # Plots two distibutions (e.g. harmonized and unharmonized data) as the two halves of stacked violin plots.\n",
    "    plt.figure(figsize = (12,5))\n",
    "    vp_data = pd.DataFrame({x: data_unharmonized[x], y: data_unharmonized[y], 'Legend': 'Unharmonized'})\n",
    "    vp_data = vp_data.append(pd.DataFrame({x: data_harmonized[x], y: data_harmonized[y], 'Legend': 'Harmonized'}))\n",
    "    ax_h_uh = sns.violinplot(y = y, x = x, data = vp_data, hue = 'Legend', split = True, scale = scale)\n",
    "    #ax_h_uh.legend().remove()\n",
    "    plt.show()"
   ]
  },
  {
   "cell_type": "code",
   "execution_count": 48,
   "metadata": {
    "slideshow": {
     "slide_type": "skip"
    }
   },
   "outputs": [],
   "source": [
    "# Plot a panel of figures useful for quick data exploration and verification.\n",
    "def plot_panel(nucleus, data_unh, data_h):\n",
    "    plt.figure()\n",
    "    fig, axes = plt.subplots(ncols=2, nrows = 2, figsize = (13,4))\n",
    "    plt.subplots_adjust(wspace = 0.5, hspace = 0.5)\n",
    "    \n",
    "    # Plot nucleus volume by Age and TBV: data1\n",
    "    axes[0,0].title.set_text(\"Unharmonized\")\n",
    "    sns.scatterplot('Age', nucleus, data = data_unh, hue = \"DX\", ax=axes[0,0])\n",
    "    sns.regplot('Age', nucleus, data = data_unh, scatter = False, ax=axes[0,0])\n",
    "    sns.scatterplot('TBV', nucleus, data = data_unh, hue = \"DX\", ax=axes[1,0])\n",
    "    sns.regplot('TBV', nucleus, data = data_unh, scatter = False, ax=axes[1,0])\n",
    "       \n",
    "    axes[0,1].title.set_text(\"Harmonized\")\n",
    "    # Plot nucleus volume by Age and TBV: data2\n",
    "    sns.scatterplot('Age', nucleus, data = data_h, hue = \"DX\", ax=axes[0,1])\n",
    "    sns.regplot('Age', nucleus, data = data_h, scatter = False, ax=axes[0,1])\n",
    "    sns.scatterplot('TBV', nucleus, data = data_h, hue = \"DX\", ax=axes[1,1])\n",
    "    sns.regplot('TBV', nucleus, data = data_h, scatter = False, ax=axes[1,1])\n",
    "    \n",
    "    # Plot the two distributions together\n",
    "    plot_dual_distributions(x=nucleus, y = 'Site', data_unharmonized = data_unh, data_harmonized = data_h, scale = 'count')"
   ]
  },
  {
   "cell_type": "code",
   "execution_count": 27,
   "metadata": {
    "slideshow": {
     "slide_type": "skip"
    }
   },
   "outputs": [],
   "source": [
    "# Function to plot fitted values against residuals\n",
    "# This relies on internal structure of the models. For now, it's the same for the linear regression and linear mixed models.\n",
    "#def plot_fitted_vs_residual(models, ex_data, x_fitted_col, y_resid_col, display_col, hue_col, title_add = None):\n",
    "def plot_fitted_vs_residual(models, ex_data, display_col, hue_col, title_add = None):\n",
    "    plt.figure(figsize = (12,8))\n",
    "    fitted_y = models[display_col].fittedvalues\n",
    "    resid = models[display_col].resid\n",
    "    # The following is not ideal. Need to revisit this solution.\n",
    "    fit_resid_df = pd.DataFrame({'Residual': resid, 'Fitted_Value': fitted_y, 'Site': ex_data['Site'], 'DX': ex_data['DX']})\n",
    "    ax = sns.scatterplot(fitted_y, resid, hue = hue_col, data=fit_resid_df)\n",
    "    ax.set_title('Fitted vs. Residual Plot for ' + display_col + title_add)\n",
    "    ax.set(xlabel = 'Fitted', ylabel = 'Residual')\n",
    "    ax.legend().remove()\n",
    "    plt.show()  "
   ]
  },
  {
   "cell_type": "markdown",
   "metadata": {
    "slideshow": {
     "slide_type": "skip"
    }
   },
   "source": [
    "## Read data and drop rows with missing values for age, examine structure"
   ]
  },
  {
   "cell_type": "code",
   "execution_count": 28,
   "metadata": {
    "slideshow": {
     "slide_type": "skip"
    }
   },
   "outputs": [],
   "source": [
    "data = pd.read_csv(\"../data/data_trimmed_allsites.csv\", index_col=0)\n",
    "#data = pd.read_csv(\"../data/data_trimmed.csv\", index_col=0)\n",
    "\n",
    "# Age is missing in some rows, but is needed for modelling. Drop those rows\n",
    "complete_rows = data['Age'].notna()\n",
    "NA_rows = ~complete_rows\n",
    "data = data[complete_rows]"
   ]
  },
  {
   "cell_type": "markdown",
   "metadata": {
    "slideshow": {
     "slide_type": "skip"
    }
   },
   "source": [
    "## Mask features that failed segmentation QC"
   ]
  },
  {
   "cell_type": "code",
   "execution_count": 29,
   "metadata": {
    "slideshow": {
     "slide_type": "skip"
    }
   },
   "outputs": [],
   "source": [
    "# QC columns are of the form L_str. Volume data is in L_str_vol\n",
    "QC_cols = ['L_str', 'L_GP', 'L_thal', 'R_str', 'R_GP', 'R_thal']\n",
    "features = [QCc + '_vol' for QCc in QC_cols]\n",
    "\n",
    "QC_failed = data[QC_cols] <= 0.5\n",
    "data[features] = data[features].mask(QC_failed.values)"
   ]
  },
  {
   "cell_type": "markdown",
   "metadata": {
    "slideshow": {
     "slide_type": "skip"
    }
   },
   "source": [
    "## Get harmonized subcortical volume data from neuroCombat"
   ]
  },
  {
   "cell_type": "code",
   "execution_count": 30,
   "metadata": {
    "slideshow": {
     "slide_type": "skip"
    }
   },
   "outputs": [],
   "source": [
    "# Read in harmonized features from R output\n",
    "harmonized_features = pd.read_csv(\"harmonized_masked.csv\", index_col=0)"
   ]
  },
  {
   "cell_type": "markdown",
   "metadata": {
    "slideshow": {
     "slide_type": "skip"
    }
   },
   "source": [
    "### Determine Effect of Diagnosis: Linear Models with ComBat Harmonized Data\n"
   ]
  },
  {
   "cell_type": "code",
   "execution_count": 31,
   "metadata": {
    "slideshow": {
     "slide_type": "skip"
    }
   },
   "outputs": [],
   "source": [
    "# Linear regression on ComBat harmonized data\n",
    "from statsmodels.formula.api import ols\n",
    "\n",
    "models = pd.Series(dtype='object')\n",
    "model_params = pd.Series(dtype = 'object')\n",
    "model_es = []\n",
    "\n",
    "for nucleus in harmonized_features.columns[:-5]:        # Don't include last (covariate) columns\n",
    "    models[nucleus] = ols(formula = nucleus + ' ~ DX + Age + Sex + TBV', data = harmonized_features).fit()\n",
    "#    print(models[nucleus].summary())\n",
    "    model_params[nucleus] = models[nucleus].params\n",
    "\n",
    "    # Get effect size, being sure to drop rows with NA for age.\n",
    "    n_control = sum(data['DX'] == 'Control')\n",
    "    n_ASD = models[nucleus].nobs - n_control\n",
    "    model_es.append(cohensd(t  = models[nucleus].tvalues['DX[T.Control]'], \n",
    "                                df = models[nucleus].df_resid, \n",
    "                                n1 = n_control,\n",
    "                                n2 = n_ASD))"
   ]
  },
  {
   "cell_type": "markdown",
   "metadata": {
    "slideshow": {
     "slide_type": "skip"
    }
   },
   "source": [
    "## Compute Linear Regression on Unharmonized Data"
   ]
  },
  {
   "cell_type": "code",
   "execution_count": 32,
   "metadata": {
    "slideshow": {
     "slide_type": "skip"
    }
   },
   "outputs": [],
   "source": [
    "# Linear regression on unharmonized data\n",
    "models_unh = pd.Series(dtype='object')\n",
    "model_unh_params = pd.Series(dtype = 'object')\n",
    "model_unh_es = []\n",
    "\n",
    "for nucleus in features:\n",
    "    models_unh[nucleus] = ols(formula = nucleus + ' ~ DX + Age + Sex + TBV + Site', data = data).fit()\n",
    "#    print(models_unh[nucleus].summary())\n",
    "    model_unh_params[nucleus] = models_unh[nucleus].params\n",
    "    \n",
    "    # Get effect size, being sure to drop rows with NA for age.\n",
    "    n_control = sum(data['DX'] == 'Control')\n",
    "    n_ASD = models_unh[nucleus].nobs - n_control\n",
    "    model_unh_es.append(cohensd(t  = models_unh[nucleus].tvalues['DX[T.Control]'], \n",
    "                                    df = models_unh[nucleus].df_resid, \n",
    "                                    n1 = n_control,\n",
    "                                    n2 = n_ASD))"
   ]
  },
  {
   "cell_type": "markdown",
   "metadata": {
    "slideshow": {
     "slide_type": "skip"
    }
   },
   "source": [
    "## Linear Mixed Model on the Raw Data\n",
    "An alternative analysis is to run a linear mixed model on the raw (unharmonized) data, with site as a random effect. "
   ]
  },
  {
   "cell_type": "code",
   "execution_count": 33,
   "metadata": {
    "slideshow": {
     "slide_type": "skip"
    }
   },
   "outputs": [],
   "source": [
    "# Linear mixed model, site as random factor\n",
    "import statsmodels.formula.api as smf\n",
    "\n",
    "lm_models = pd.Series(dtype='object')\n",
    "lm_model_params = pd.Series(dtype = 'object')\n",
    "lm_model_es = []\n",
    "\n",
    "for nucleus in features:\n",
    "    lm_models[nucleus] = smf.mixedlm(nucleus + \" ~ DX + Age + Sex + TBV\", data, groups = data[\"Site\"], missing='drop').fit()\n",
    "    lm_model_params[nucleus] = lm_models[nucleus].params\n",
    "    \n",
    "    # Get effect size, being sure to drop rows with NA for age.\n",
    "    n_control = sum(data['DX'] == 'Control')\n",
    "    n_ASD = lm_models[nucleus].nobs - n_control\n",
    "    lm_model_es.append(cohensd(t  = lm_models[nucleus].tvalues['DX[T.Control]'], \n",
    "                          df = lm_models[nucleus].df_resid, \n",
    "                          n1 = n_control,\n",
    "                          n2 = n_ASD))"
   ]
  },
  {
   "cell_type": "markdown",
   "metadata": {
    "slideshow": {
     "slide_type": "slide"
    }
   },
   "source": [
    "# <p style=\"text-align: center;\">Harmonizing Multi-Site Structural MRI Datasets</p>\n",
    "\n",
    "### <p style=\"text-align: center;\">David MacDonald</p>"
   ]
  },
  {
   "cell_type": "markdown",
   "metadata": {
    "slideshow": {
     "slide_type": "slide"
    }
   },
   "source": [
    "## Multi-site MRI\n",
    "\n",
    "\n",
    " * Neuroimaging data, such as MRI, is time-consuming and very costly to collect, but rich in information.\n",
    " * Multi-site, open data allows for much larger sample sizes and much greater statistical power in MRI studies, while distributing the cost across many research centers.\n",
    "\n"
   ]
  },
  {
   "cell_type": "markdown",
   "metadata": {
    "slideshow": {
     "slide_type": "fragment"
    }
   },
   "source": [
    "### <p style=\"text-align: center;\">HOWEVER . . .</p>"
   ]
  },
  {
   "cell_type": "markdown",
   "metadata": {
    "slideshow": {
     "slide_type": "subslide"
    }
   },
   "source": [
    " ### <p style=\"text-align: center;\">HOWEVER . . .</p>\n",
    " \n",
    " * Differences between scans due to technical factors can overwhelm those due to biological factors\n",
    " ### <p style=\"text-align: left;\">This introduces VARIABILITY, and . . . </p>\n",
    "\n",
    "  "
   ]
  },
  {
   "cell_type": "markdown",
   "metadata": {
    "slideshow": {
     "slide_type": "fragment"
    }
   },
   "source": [
    " \n",
    " \n",
    " \n",
    " * Different sites likely sample different populations\n",
    " \n",
    " ### <p style=\"text-align: left;\">Which introduces BIAS. . . </p>"
   ]
  },
  {
   "cell_type": "markdown",
   "metadata": {
    "slideshow": {
     "slide_type": "subslide"
    }
   },
   "source": [
    "## Purpose\n",
    "\n",
    "### The Context\n",
    "Examining the volume of thalamus, globus pallidus, striatum in ASD, using the [ABIDE](http://fcon_1000.projects.nitrc.org/indi/abide/) dataset"
   ]
  },
  {
   "cell_type": "markdown",
   "metadata": {
    "slideshow": {
     "slide_type": "fragment"
    }
   },
   "source": [
    "### Multi-Site Data Harmonization\n",
    " * Use linear mixed-effect models.\n",
    " * Use the open source [neuroCombat](https://github.com/Jfortin1/ComBatHarmonization) library, which was originally intended to mitigate batch effects in genetic studies, but has since been adapted to work with neuroimaging data.\n"
   ]
  },
  {
   "cell_type": "markdown",
   "metadata": {
    "slideshow": {
     "slide_type": "slide"
    }
   },
   "source": [
    "## My (Relevant) Background\n",
    "\n",
    "* 1st year M.Sc. student at McGill University\n",
    "* Using structural MRI to study subcortical structures in Autism Spectrum Disorders"
   ]
  },
  {
   "cell_type": "markdown",
   "metadata": {
    "slideshow": {
     "slide_type": "fragment"
    }
   },
   "source": [
    "* Prior neuroscience work in a wet lab: IHC and molecular\n",
    "* Experience using Excel, SPSS point-and-click interface"
   ]
  },
  {
   "cell_type": "markdown",
   "metadata": {
    "slideshow": {
     "slide_type": "fragment"
    }
   },
   "source": [
    "* Some experience with:\n",
    "    * bash\n",
    "    * programming (learning R, C++ a *long* time ago)\n",
    "    * HPC through Compute Canada"
   ]
  },
  {
   "cell_type": "markdown",
   "metadata": {
    "slideshow": {
     "slide_type": "fragment"
    }
   },
   "source": [
    "* Minimal experience with:\n",
    "    * git and github\n"
   ]
  },
  {
   "cell_type": "markdown",
   "metadata": {
    "slideshow": {
     "slide_type": "subslide"
    }
   },
   "source": [
    "## Workflow\n"
   ]
  },
  {
   "cell_type": "markdown",
   "metadata": {
    "slideshow": {
     "slide_type": "fragment"
    }
   },
   "source": [
    "<center><img src=\"workflow_prosp.png\" alt=\"Image\" style=\"width: 1500px\" align=\"center\"/></center>"
   ]
  },
  {
   "cell_type": "markdown",
   "metadata": {
    "slideshow": {
     "slide_type": "subslide"
    }
   },
   "source": [
    "## Workflow\n",
    "\n",
    "<center><img src=\"workflow_actual.png\" alt=\"Image\" style=\"width: 1500px\" align=\"center\"/></center>"
   ]
  },
  {
   "cell_type": "markdown",
   "metadata": {
    "slideshow": {
     "slide_type": "slide"
    }
   },
   "source": [
    "## Exploration and Visualization\n",
    "### Age Distributions"
   ]
  },
  {
   "cell_type": "code",
   "execution_count": 34,
   "metadata": {
    "slideshow": {
     "slide_type": "fragment"
    }
   },
   "outputs": [
    {
     "data": {
      "text/plain": [
       "<matplotlib.axes._subplots.AxesSubplot at 0x7f5a9d42d190>"
      ]
     },
     "execution_count": 34,
     "metadata": {},
     "output_type": "execute_result"
    },
    {
     "data": {
      "image/png": "[encoded data removed]",
      "text/plain": [
       "<Figure size 432x288 with 1 Axes>"
      ]
     },
     "metadata": {
      "needs_background": "light"
     },
     "output_type": "display_data"
    }
   ],
   "source": [
    "sns.distplot(data['Age'])"
   ]
  },
  {
   "cell_type": "markdown",
   "metadata": {
    "slideshow": {
     "slide_type": "subslide"
    }
   },
   "source": [
    "### Age Distributions by Site"
   ]
  },
  {
   "cell_type": "code",
   "execution_count": 57,
   "metadata": {
    "slideshow": {
     "slide_type": "fragment"
    }
   },
   "outputs": [
    {
     "data": {
      "image/png": "[encoded data removed]",
      "text/plain": [
       "<Figure size 432x288 with 1 Axes>"
      ]
     },
     "metadata": {},
     "output_type": "display_data"
    }
   ],
   "source": [
    "plot_distributions(data, \"Site\", \"Age\")"
   ]
  },
  {
   "cell_type": "code",
   "execution_count": 37,
   "metadata": {
    "slideshow": {
     "slide_type": "fragment"
    }
   },
   "outputs": [
    {
     "data": {
      "image/png": "[encoded data removed]",
      "text/plain": [
       "<Figure size 432x288 with 1 Axes>"
      ]
     },
     "metadata": {
      "needs_background": "light"
     },
     "output_type": "display_data"
    }
   ],
   "source": [
    "plot_stacked_dists(x = 'Age', y = 'Site', data = data)"
   ]
  },
  {
   "cell_type": "markdown",
   "metadata": {
    "slideshow": {
     "slide_type": "subslide"
    }
   },
   "source": [
    "### Harmonized vs. Unharmonized"
   ]
  },
  {
   "cell_type": "code",
   "execution_count": 49,
   "metadata": {
    "slideshow": {
     "slide_type": "fragment"
    }
   },
   "outputs": [
    {
     "data": {
      "application/vnd.jupyter.widget-view+json": {
       "model_id": "bec63e1f41884c08a6c38a5fa7aaa223",
       "version_major": 2,
       "version_minor": 0
      },
      "text/plain": [
       "interactive(children=(Dropdown(description='nucleus', options=('L_str_vol', 'L_GP_vol', 'L_thal_vol', 'R_str_v…"
      ]
     },
     "metadata": {},
     "output_type": "display_data"
    },
    {
     "data": {
      "text/plain": [
       "<function __main__.plot_panel(nucleus, data_unh, data_h)>"
      ]
     },
     "execution_count": 49,
     "metadata": {},
     "output_type": "execute_result"
    }
   ],
   "source": [
    "interact(plot_panel, nucleus = features, data_unh = fixed(data), data_h=fixed(harmonized_features))"
   ]
  },
  {
   "cell_type": "markdown",
   "metadata": {
    "slideshow": {
     "slide_type": "subslide"
    }
   },
   "source": [
    "### Fitted Values vs. Residuals Plots"
   ]
  },
  {
   "cell_type": "code",
   "execution_count": 55,
   "metadata": {
    "slideshow": {
     "slide_type": "fragment"
    }
   },
   "outputs": [
    {
     "data": {
      "application/vnd.jupyter.widget-view+json": {
       "model_id": "06b62f9e875443458f5ebf525ca0f1dd",
       "version_major": 2,
       "version_minor": 0
      },
      "text/plain": [
       "interactive(children=(Dropdown(description='display_col', options=('L_str_vol', 'L_GP_vol', 'L_thal_vol', 'R_s…"
      ]
     },
     "metadata": {},
     "output_type": "display_data"
    },
    {
     "data": {
      "text/plain": [
       "<function __main__.plot_fitted_vs_residual(models, ex_data, display_col, hue_col, title_add=None)>"
      ]
     },
     "execution_count": 55,
     "metadata": {},
     "output_type": "execute_result"
    }
   ],
   "source": [
    "interact(plot_fitted_vs_residual, models = fixed(models), ex_data = fixed(data), display_col = features,  hue_col = ['DX', 'Site'], title_add = fixed(' Combat Harmonized Data'))"
   ]
  },
  {
   "cell_type": "markdown",
   "metadata": {
    "slideshow": {
     "slide_type": "slide"
    }
   },
   "source": [
    "## Results\n",
    "<center><img src=\"forest_plot.png\" alt=\"Forest Plot\" style=\"width: 1500px\" align=\"center\"/></center>"
   ]
  },
  {
   "cell_type": "markdown",
   "metadata": {
    "slideshow": {
     "slide_type": "fragment"
    }
   },
   "source": [
    " * Note: none of these effects were significant at $\\alpha = 0.5$\n",
    " * No clear benefit in this dataset, potentially because:\n",
    "     * Small number of features\n",
    "     * Pooling across regions may not be helpful"
   ]
  },
  {
   "cell_type": "markdown",
   "metadata": {
    "slideshow": {
     "slide_type": "slide"
    }
   },
   "source": [
    "## Open Science Tools\n",
    "\n",
    " * Git and GitHub"
   ]
  },
  {
   "cell_type": "markdown",
   "metadata": {
    "slideshow": {
     "slide_type": "fragment"
    }
   },
   "source": [
    " * Python\n",
    "     * Pandas for data manipulation\n",
    "     * Seaborn for data visualization\n",
    "     * Ipywidgets for interactive data visualization\n",
    "     * Statsmodels for data analysis\n",
    " * R"
   ]
  },
  {
   "cell_type": "markdown",
   "metadata": {
    "slideshow": {
     "slide_type": "fragment"
    }
   },
   "source": [
    " * bash scripting for batch-mode pipelines\n",
    " * Jupyter Notebooks\n",
    "     * Interactive data exploration\n",
    "     * Presentations with RISE"
   ]
  },
  {
   "cell_type": "markdown",
   "metadata": {
    "slideshow": {
     "slide_type": "fragment"
    }
   },
   "source": [
    " * Virtualization with conda\n",
    " * Containerization with Docker"
   ]
  },
  {
   "cell_type": "markdown",
   "metadata": {
    "slideshow": {
     "slide_type": "slide"
    }
   },
   "source": [
    "## Skills and Technologies\n",
    "\n",
    " * Linear mixed-effects modelling with statsmodels in python\n",
    " * [ComBat](https://github.com/Jfortin1/ComBatHarmonization) for harmonizing neuroimaging data\n",
    " \n",
    " Both were learned independently during BHS, with support of instructors and peers"
   ]
  },
  {
   "cell_type": "markdown",
   "metadata": {
    "slideshow": {
     "slide_type": "fragment"
    }
   },
   "source": [
    "## Relevance\n",
    "\n",
    " * With the increasing use of open datasets in neuroimaging, it is important to have tools to manage non-biological sources of variation in scans\n",
    " * No studies yet where ComBat has been used to harmonize multi-site subcortical volume / morphometry"
   ]
  },
  {
   "cell_type": "markdown",
   "metadata": {
    "slideshow": {
     "slide_type": "subslide"
    }
   },
   "source": [
    "## Further Work\n",
    "\n",
    " * **Extend to vertex-wise data**\n",
    " * Complete containerization of pipeline\n",
    " * Contribute missing features to the Python version of ComBat on GitHub\n",
    "     * Handling missing values\n",
    "     * Empirical Bayes: visualizing parameter distributions"
   ]
  },
  {
   "cell_type": "markdown",
   "metadata": {
    "slideshow": {
     "slide_type": "slide"
    }
   },
   "source": [
    "## Questions?"
   ]
  },
  {
   "cell_type": "markdown",
   "metadata": {
    "slideshow": {
     "slide_type": "slide"
    }
   },
   "source": [
    "## ComBat\n",
    "\n",
    "#### Standard Linear Model\n",
    "$$y_{roi,i} = \\alpha_{roi} + X_{i} \\beta_{roi} + \\epsilon_{roi,i}$$\n",
    "\n"
   ]
  },
  {
   "cell_type": "markdown",
   "metadata": {
    "slideshow": {
     "slide_type": "fragment"
    }
   },
   "source": [
    "#### Add location and scale correction\n",
    "\n",
    " \n",
    "$$y_{roi,site,i} = \\alpha_{roi} + X_{site,i} \\beta_{roi} + \\gamma_{roi,site} + \\delta_{roi,site} \\epsilon_{roi,site,i}$$\n",
    "\n",
    " * Error terms may be drawn from different normal distributions at each site\n",
    " * Both additive ($\\gamma$) and multiplicative ($\\delta$) site effects\n",
    " * Site effects assumed *non-independent* across regions\n",
    "     * Estimate $\\gamma$ and $\\delta$ using Empirical Bayes framework"
   ]
  },
  {
   "cell_type": "markdown",
   "metadata": {
    "slideshow": {
     "slide_type": "subslide"
    }
   },
   "source": [
    "#### Determine Error Term...\n",
    "\n",
    "$$\\epsilon_{roi,site,i} = \\frac{y_{roi,site,i} - \\alpha_{roi} - X_{site,i} \\beta_{roi} - \\gamma_{roi,site}}{\\delta_{roi,site}}$$"
   ]
  },
  {
   "cell_type": "markdown",
   "metadata": {
    "slideshow": {
     "slide_type": "fragment"
    }
   },
   "source": [
    "#### and Remove Site Effects\n",
    "\n",
    "$$y_{roi,site,i}^{ComBat} = \\alpha_{roi} + X_{site,i} \\beta_{roi} + \\epsilon_{roi,site,i}$$"
   ]
  }
 ],
 "metadata": {
  "celltoolbar": "Slideshow",
  "kernelspec": {
   "display_name": "Python 3",
   "language": "python",
   "name": "python3"
  },
  "language_info": {
   "codemirror_mode": {
    "name": "ipython",
    "version": 3
   },
   "file_extension": ".py",
   "mimetype": "text/x-python",
   "name": "python",
   "nbconvert_exporter": "python",
   "pygments_lexer": "ipython3",
   "version": "3.7.7"
  }
 },
 "nbformat": 4,
 "nbformat_minor": 4
}
