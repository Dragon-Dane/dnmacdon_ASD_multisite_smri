{
 "cells": [
  {
   "cell_type": "markdown",
   "metadata": {
    "slideshow": {
     "slide_type": "slide"
    }
   },
   "source": [
    "# Harmonizing Multi-Site Structural MRI Data Using ComBat\n",
    "\n",
    "\n"
   ]
  },
  {
   "cell_type": "markdown",
   "metadata": {
    "slideshow": {
     "slide_type": "fragment"
    }
   },
   "source": [
    "Team contributors: David MacDonald, and anyone else who is interested!"
   ]
  },
  {
   "cell_type": "markdown",
   "metadata": {
    "slideshow": {
     "slide_type": "skip"
    }
   },
   "source": [
    "## Summary \n",
    "This project involves using [ComBat](https://github.com/jfortin1/ComBatHarmonization), an open-source library for multi-site data harmonization, to remove site effects from subcortical volumetric data derived from the [ABIDE](http://fcon_1000.projects.nitrc.org/indi/abide/) dataset. If time permits, I would also like to explore systematic ways of comparing different site harmonization approaches. "
   ]
  },
  {
   "cell_type": "markdown",
   "metadata": {
    "slideshow": {
     "slide_type": "slide"
    }
   },
   "source": [
    "# Project Definition"
   ]
  },
  {
   "cell_type": "markdown",
   "metadata": {
    "slideshow": {
     "slide_type": "fragment"
    }
   },
   "source": [
    "#### My Background\n",
    " * Elementary school teacher from Ottawa, ON\n",
    " * Currently Master's student in McGill's [CoBRA Lab](http://cobralab.ca)\n",
    " * Some programming background (C++ and R)"
   ]
  },
  {
   "cell_type": "markdown",
   "metadata": {
    "slideshow": {
     "slide_type": "fragment"
    }
   },
   "source": [
    " #### Neuroscience Background\n",
    " * Prior experience in a wet lab, doing molecular biology and immunohistochemistry\n",
    " * Now studying Autism Spectrum Disorders and subcortical anatomy, using structural MRI"
   ]
  },
  {
   "cell_type": "markdown",
   "metadata": {
    "slideshow": {
     "slide_type": "subslide"
    }
   },
   "source": [
    "### Background\n",
    "\n",
    "#### Project Background\n",
    " * Working with large, multi-site dataset (ABIDE-Plus!)\n",
    " * Investigating subcortical volumes and morphometry\n",
    "     * Thalamus, globus pallidus, caudate nucleus\n",
    " * Dealing with site effects using meta-analytic techniques"
   ]
  },
  {
   "cell_type": "markdown",
   "metadata": {
    "slideshow": {
     "slide_type": "subslide"
    }
   },
   "source": [
    "# Project Definition\n",
    "\n",
    "With this project, I would like to learn and apply two other techniques for inter-site data harmonization:\n",
    " * Use the open source ComBat library, which was originally intended to mitigate batch effects in genetic studies, but has since been adapted to work with neuroimaging data.\n",
    " * Use linear mixed-effect models.\n"
   ]
  },
  {
   "cell_type": "markdown",
   "metadata": {
    "slideshow": {
     "slide_type": "fragment"
    }
   },
   "source": [
    "I would also like to:\n",
    " * Use the tools we have been learning about to make my project more transparent, easy to maintain, reproducible, and open to collaboration.\n",
    " * If time permits, find a way to compare these three site harmonization techniques systematically."
   ]
  },
  {
   "cell_type": "markdown",
   "metadata": {
    "slideshow": {
     "slide_type": "subslide"
    }
   },
   "source": [
    "### Tools \n",
    "\n",
    "This project will make use of:\n",
    " * git and github for version control, code sharing, project management, and collaboration\n",
    " * Jupyter notebooks\n",
    " * Python, including packages for linear regression and mixed models (numpy, statsmodels) and data manipulation (pandas)\n",
    " * A virtualization technology, either conda or virtual environment, to improve reproducibility\n",
    " * Python libraries for data visualization (matplotlib, Seaborn) \n",
    " * [ComBat](https://github.com/Jfortin1/ComBatHarmonization): A linear regression tool that uses Empirical Bayes to model site effects"
   ]
  },
  {
   "cell_type": "markdown",
   "metadata": {
    "slideshow": {
     "slide_type": "subslide"
    }
   },
   "source": [
    "### Data \n",
    "\n",
    "I will be using subcortical volumes, previously derived from the [ABIDE](http://fcon_1000.projects.nitrc.org/indi/abide/) dataset using the [MAGeT Brain](https://github.com/CobraLab/MAGeTbrain) pipeline.  "
   ]
  },
  {
   "cell_type": "markdown",
   "metadata": {
    "slideshow": {
     "slide_type": "fragment"
    }
   },
   "source": [
    "\n",
    "![Image](http://fcon_1000.projects.nitrc.org/indi/abide/abide_logo.jpg) ![Image](maget-cropped.png)"
   ]
  },
  {
   "cell_type": "markdown",
   "metadata": {
    "slideshow": {
     "slide_type": "subslide"
    }
   },
   "source": [
    "### Deliverables\n",
    "\n",
    " * github repository containing \n",
    "     * Analysis code in Jupyter notebooks and the subcortical volume data to be processed\n",
    "     * All visualizations for the linear mixed-models and ComBat harmonization implementations\n",
    "     * Virtual environment requirements.txt file, or conda environment.yaml file\n",
    "     * README.md file summarizing the background methodology, and results\n",
    "     * Link to final presentation slides"
   ]
  }
 ],
 "metadata": {
  "celltoolbar": "Slideshow",
  "kernelspec": {
   "display_name": "Python 3",
   "language": "python",
   "name": "python3"
  },
  "language_info": {
   "codemirror_mode": {
    "name": "ipython",
    "version": 3
   },
   "file_extension": ".py",
   "mimetype": "text/x-python",
   "name": "python",
   "nbconvert_exporter": "python",
   "pygments_lexer": "ipython3",
   "version": "3.7.6"
  }
 },
 "nbformat": 4,
 "nbformat_minor": 2
}
